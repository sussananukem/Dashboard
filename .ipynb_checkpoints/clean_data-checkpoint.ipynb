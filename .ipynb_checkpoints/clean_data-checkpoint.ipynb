{
 "cells": [
  {
   "cell_type": "code",
   "execution_count": null,
   "metadata": {},
   "outputs": [],
   "source": [
    "import pandas as pd"
   ]
  },
  {
   "cell_type": "markdown",
   "metadata": {},
   "source": [
    "Read the data"
   ]
  },
  {
   "cell_type": "code",
   "execution_count": null,
   "metadata": {},
   "outputs": [],
   "source": [
    "df = pd.read_csv(\"data/clinical_data.csv\", encoding = \"ISO-8859-1\")"
   ]
  },
  {
   "cell_type": "markdown",
   "metadata": {},
   "source": [
    "Make HYPERTENSION categorical"
   ]
  },
  {
   "cell_type": "code",
   "execution_count": null,
   "metadata": {},
   "outputs": [],
   "source": [
    "def categorize_htn(htn_value):\n",
    "    if htn_value == 0:\n",
    "        return 'No'\n",
    "    else:\n",
    "        return 'Yes'"
   ]
  },
  {
   "cell_type": "markdown",
   "metadata": {},
   "source": [
    "Apply the function to create a new 'htn_category' column"
   ]
  },
  {
   "cell_type": "code",
   "execution_count": null,
   "metadata": {},
   "outputs": [],
   "source": [
    "htn_levels = ['No', 'Yes']\n",
    "df['htn_category'] = df['preop_htn'].apply(categorize_htn).astype(pd.CategoricalDtype(categories=htn_levels, ordered=True))"
   ]
  },
  {
   "cell_type": "markdown",
   "metadata": {},
   "source": [
    "Make MORTALITY categorical"
   ]
  },
  {
   "cell_type": "code",
   "execution_count": null,
   "metadata": {},
   "outputs": [],
   "source": [
    "def categorize_death(death_value):\n",
    "    if death_value == 0:\n",
    "        return 'Alive'\n",
    "    else:\n",
    "        return 'Dead'"
   ]
  },
  {
   "cell_type": "markdown",
   "metadata": {},
   "source": [
    "Apply the function to create a new 'htn_category' column"
   ]
  },
  {
   "cell_type": "code",
   "execution_count": null,
   "metadata": {},
   "outputs": [],
   "source": [
    "death_levels = ['Alive', 'Dead']\n",
    "df['death_category'] = df['death_inhosp'].apply(categorize_death).astype(pd.CategoricalDtype(categories=death_levels, ordered=True))"
   ]
  },
  {
   "cell_type": "markdown",
   "metadata": {},
   "source": [
    "Make DIABETES categorical"
   ]
  },
  {
   "cell_type": "code",
   "execution_count": null,
   "metadata": {},
   "outputs": [],
   "source": [
    "def categorize_dm(dm_value):\n",
    "    if dm_value == 0:\n",
    "        return 'No'\n",
    "    else:\n",
    "        return 'Yes'"
   ]
  },
  {
   "cell_type": "markdown",
   "metadata": {},
   "source": [
    "Apply the function to create a new 'htn_category' column"
   ]
  },
  {
   "cell_type": "code",
   "execution_count": null,
   "metadata": {},
   "outputs": [],
   "source": [
    "dm_levels = ['No', 'Yes']\n",
    "df['dm_category'] = df['preop_dm'].apply(categorize_dm).astype(pd.CategoricalDtype(categories=dm_levels, ordered=True))"
   ]
  },
  {
   "cell_type": "markdown",
   "metadata": {},
   "source": [
    "Make AGE categorical"
   ]
  },
  {
   "cell_type": "code",
   "execution_count": null,
   "metadata": {},
   "outputs": [],
   "source": [
    "def categorize_age(age_value):\n",
    "    if age_value < '18':\n",
    "        return 'Below 18'\n",
    "    elif '18' <= age_value < '30':\n",
    "        return '18 - 29'\n",
    "    elif '30' <= age_value < '46':\n",
    "        return '30 - 45'\n",
    "    else:\n",
    "        return 'Above 45'"
   ]
  },
  {
   "cell_type": "markdown",
   "metadata": {},
   "source": [
    "Apply the function to create a new 'age_category' column"
   ]
  },
  {
   "cell_type": "code",
   "execution_count": null,
   "metadata": {},
   "outputs": [],
   "source": [
    "age_levels = ['Below 18', '18 - 29', '30 - 45', 'Above 45']\n",
    "df['age_category'] = df['age'].apply(categorize_age).astype(pd.CategoricalDtype(categories=age_levels, ordered=True))"
   ]
  },
  {
   "cell_type": "markdown",
   "metadata": {},
   "source": [
    "Make BMI categorical"
   ]
  },
  {
   "cell_type": "code",
   "execution_count": null,
   "metadata": {},
   "outputs": [],
   "source": [
    "def categorize_bmi(bmi_value):\n",
    "    if bmi_value < 18.5:\n",
    "        return 'Underweight'\n",
    "    elif 18.5 <= bmi_value < 24.9:\n",
    "        return 'Normal'\n",
    "    elif 25 <= bmi_value < 29.9:\n",
    "        return 'Overweight'\n",
    "    else:\n",
    "        return 'Obese'"
   ]
  },
  {
   "cell_type": "markdown",
   "metadata": {},
   "source": [
    "Apply the function to create a new 'bmi_category' column"
   ]
  },
  {
   "cell_type": "code",
   "execution_count": null,
   "metadata": {},
   "outputs": [],
   "source": [
    "bmi_levels = ['Underweight', 'Normal', 'Overweight', 'Obese']\n",
    "df['bmi_category'] = df['bmi'].apply(categorize_bmi).astype(pd.CategoricalDtype(categories=bmi_levels, ordered=True))"
   ]
  },
  {
   "cell_type": "markdown",
   "metadata": {},
   "source": [
    "Make hospital stay categorical"
   ]
  },
  {
   "cell_type": "code",
   "execution_count": null,
   "metadata": {},
   "outputs": [],
   "source": [
    "def categorize_stay(hospital_stay):\n",
    "    if hospital_stay < 1:\n",
    "        return 'Less than a day'\n",
    "    elif 1 <= hospital_stay < 7:\n",
    "        return 'Under a week'\n",
    "    elif 7 <= hospital_stay < 30:\n",
    "        return 'Under a month'\n",
    "    else:\n",
    "        return 'More than one month'"
   ]
  },
  {
   "cell_type": "markdown",
   "metadata": {},
   "source": [
    "Apply the function to create a new 'bmi_category' column"
   ]
  },
  {
   "cell_type": "code",
   "execution_count": null,
   "metadata": {},
   "outputs": [],
   "source": [
    "icu_days_levels = ['Less than a day', 'Under a week', 'Under a month', 'More than one month']\n",
    "df['icu_category'] = df['icu_days'].apply(categorize_stay).astype(pd.CategoricalDtype(categories=icu_days_levels, ordered=True))"
   ]
  },
  {
   "cell_type": "markdown",
   "metadata": {},
   "source": [
    "Export the cleaned data"
   ]
  },
  {
   "cell_type": "code",
   "execution_count": null,
   "metadata": {},
   "outputs": [],
   "source": [
    "df.to_csv('data/clinical_data_cleaned.csv', index=False)"
   ]
  }
 ],
 "metadata": {
  "kernelspec": {
   "display_name": "Python 3 (ipykernel)",
   "language": "python",
   "name": "python3"
  },
  "language_info": {
   "codemirror_mode": {
    "name": "ipython",
    "version": 3
   },
   "file_extension": ".py",
   "mimetype": "text/x-python",
   "name": "python",
   "nbconvert_exporter": "python",
   "pygments_lexer": "ipython3",
   "version": "3.11.5"
  }
 },
 "nbformat": 4,
 "nbformat_minor": 2
}
