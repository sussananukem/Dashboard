{
 "cells": [
  {
   "cell_type": "code",
   "execution_count": null,
   "metadata": {},
   "outputs": [],
   "source": [
    "import numpy as np\n",
    "import streamlit as st\n",
    "import plotly.express as px\n",
    "import plotly.graph_objects as go\n",
    "import seaborn as sns  \n",
    "import matplotlib.pyplot as plt \n",
    "from sklearn.metrics import classification_report, f1_score, precision_score, recall_score, roc_curve, roc_auc_score\n",
    "import pandas as pd\n",
    "import os\n",
    "import altair as alt\n",
    "from sklearn.metrics import confusion_matrix\n",
    "from sklearn.model_selection import StratifiedKFold, cross_val_score\n",
    "from imblearn.over_sampling import RandomOverSampler\n",
    "from sklearn.svm import SVC\n",
    "from sklearn.preprocessing import StandardScaler, LabelEncoder\n",
    "from sklearn.preprocessing import OneHotEncoder\n",
    "from sklearn.compose import ColumnTransformer\n",
    "from sklearn.pipeline import Pipeline\n",
    "from sklearn.model_selection import train_test_split\n",
    "from sklearn.ensemble import RandomForestClassifier\n",
    "from sklearn.metrics import accuracy_score, classification_report\n",
    "import warnings\n",
    "warnings.filterwarnings('ignore') "
   ]
  },
  {
   "cell_type": "code",
   "execution_count": null,
   "metadata": {},
   "outputs": [],
   "source": [
    "st.set_page_config(page_title=\"MortaliSys\", page_icon=\":stethoscope:\", layout=\"wide\")"
   ]
  },
  {
   "cell_type": "code",
   "execution_count": null,
   "metadata": {},
   "outputs": [],
   "source": [
    "uploaded_file = st.file_uploader(\":file_folder: Upload a file\", type=([\"csv\"]))\n",
    "if uploaded_file is not None:\n",
    "    datafile = uploaded_file\n",
    "else:\n",
    "    datafile = \"data/clinical_data_cleaned.csv\""
   ]
  },
  {
   "cell_type": "code",
   "execution_count": null,
   "metadata": {},
   "outputs": [],
   "source": [
    "@st.cache_data\n",
    "def load_data(file):\n",
    "    columns_to_load = ['weight', 'height', 'bmi', 'preop_htn', 'preop_dm', 'age', 'age_category', 'age_category', 'sex', 'htn_category', 'dm_category', 'preop_pft', 'bmi_category', 'ane_type', 'department', 'optype', 'approach', 'opname', 'icu_days', 'death_inhosp', 'icu_category', 'death_category']\n",
    "\n",
    "    # Load the data\n",
    "    out = pd.read_csv(file, usecols=columns_to_load, encoding = \"ISO-8859-1\")\n",
    "    out['age'] = pd.to_numeric(out['age'], errors='coerce').fillna(0)\n",
    "    return out"
   ]
  },
  {
   "cell_type": "code",
   "execution_count": null,
   "metadata": {},
   "outputs": [],
   "source": [
    "df = load_data(datafile)"
   ]
  },
  {
   "cell_type": "markdown",
   "metadata": {},
   "source": [
    "Dashboard Title"
   ]
  },
  {
   "cell_type": "code",
   "execution_count": null,
   "metadata": {},
   "outputs": [],
   "source": [
    "st.title(\"\t:stethoscope: MortaliSys\")\n",
    "st.markdown('<style>div.block-container{padding-top:1rem;}</style>', unsafe_allow_html=True)"
   ]
  },
  {
   "cell_type": "markdown",
   "metadata": {},
   "source": [
    "DASHBOARD TABS"
   ]
  },
  {
   "cell_type": "code",
   "execution_count": null,
   "metadata": {},
   "outputs": [],
   "source": [
    "tab1, tab2 = st.tabs([\"ðŸ“Š PATIENT DATA EXPLORATION\", \"ðŸ¤– PATIENT RISK ASSESSMENT\"])"
   ]
  },
  {
   "cell_type": "markdown",
   "metadata": {},
   "source": [
    "Display dashboard overview"
   ]
  },
  {
   "cell_type": "code",
   "execution_count": null,
   "metadata": {},
   "outputs": [],
   "source": [
    "with st.sidebar.expander(\"Statistics Overview\"):\n",
    "    st.subheader(\"Dataset Overview\")\n",
    "    st.write(f\"Total Patients: {len(df)}\")\n",
    "\n",
    "    # Display total male and female patients\n",
    "    total_male = df[df['sex'] == 'M'].shape[0]\n",
    "    total_female = df[df['sex'] == 'F'].shape[0]\n",
    "    st.write(f\"Total Male Patients: {total_male}\")\n",
    "    st.write(f\"Total Female Patients: {total_female}\")\n",
    "\n",
    "    # Display in-hospital mortality statistics\n",
    "    total_deaths = df['death_inhosp'].sum()\n",
    "    total_survivors = len(df) - total_deaths\n",
    "    st.subheader(\"In-Hospital Mortality\")\n",
    "    st.write(f\"Total Deaths: {total_deaths}\")\n",
    "    st.write(f\"Total Survivors: {total_survivors}\")\n",
    "\n",
    "    # Calculate and display the percentage of in-hospital mortality\n",
    "    mortality_percentage = (total_deaths / len(df)) * 100\n",
    "    st.write(f\"Percentage of In-Hospital Mortality: {mortality_percentage:.2f}%\")\n",
    "\n",
    "    # Calculate and display the minimum and maximum ICU days\n",
    "    min_icu_days = df['icu_days'].min()\n",
    "    max_icu_days = df['icu_days'].max()\n",
    "    st.subheader(\"ICU Days\")\n",
    "    st.write(f\"Minimum ICU Days: {min_icu_days}\")\n",
    "    st.write(f\"Maximum ICU Days: {max_icu_days}\")\n",
    "\n",
    "    # Calculate and display the percentage of patients with the minimum and maximum ICU days\n",
    "    min_icu_percentage = (df[df['icu_days'] == min_icu_days].shape[0] / len(df)) * 100\n",
    "    max_icu_percentage = (df[df['icu_days'] == max_icu_days].shape[0] / len(df)) * 100\n",
    "    st.write(f\"Percentage of Patients with Minimum ICU Days ({min_icu_days}): {min_icu_percentage:.2f}%\")\n",
    "    st.write(f\"Percentage of Patients with Maximum ICU Days ({max_icu_days}): {max_icu_percentage:.2f}%\")\n",
    "    st.subheader(\"Patient Demographics\")\n",
    "\n",
    "    # Calculate and display the average age\n",
    "    avg_age = df['age'].mean()\n",
    "    st.write(f\"Average Age: {avg_age:.2f} years\")\n",
    "\n",
    "    # Calculate and display the percentage of patients with hypertension and diabetes\n",
    "    hypertensive_percentage = (df['preop_htn'].sum() / len(df)) * 100\n",
    "    diabetic_percentage = (df['preop_dm'].sum() / len(df)) * 100\n",
    "    st.write(f\"Percentage of Patients with Hypertension: {hypertensive_percentage:.2f}%\")\n",
    "    st.write(f\"Percentage of Patients with Diabetes: {diabetic_percentage:.2f}%\")\n",
    "    st.subheader(\"Surgical Details\")\n",
    "    st.write(f\"Total Departments: {df['department'].nunique()}\")\n",
    "    st.write(f\"Total Operation Types: {df['optype'].nunique()}\")\n",
    "    st.write(f\"Total Approaches: {df['approach'].nunique()}\")"
   ]
  },
  {
   "cell_type": "markdown",
   "metadata": {},
   "source": [
    "Side Filter pane"
   ]
  },
  {
   "cell_type": "code",
   "execution_count": null,
   "metadata": {},
   "outputs": [],
   "source": [
    "st.sidebar.header(\"Choose your filter: \")\n",
    "with st.sidebar.expander(\"Exploration Filter\"):\n",
    "    # Select surgery detail\n",
    "    details = {'Department': 'department', 'Operation Type': 'optype','Approach': 'approach', 'Anesthesia Type': 'ane_type'}\n",
    "    selected_detail = st.sidebar.selectbox('Surgery Details to explore', list(details.keys()))\n",
    "\n",
    "    # Check if a valid outcome is selected\n",
    "    if selected_detail in details:\n",
    "        detail_to_show = details[selected_detail]\n",
    "    else:\n",
    "        st.warning(\"Please select a valid detail.\")"
   ]
  },
  {
   "cell_type": "code",
   "execution_count": null,
   "metadata": {},
   "outputs": [],
   "source": [
    "    # Select demographics\n",
    "    demographics = {'Age': 'age_category', 'BMI': 'bmi_category', 'Gender': 'sex'}\n",
    "    selected_demographic = st.sidebar.selectbox('Patient Demographics to explore', list(demographics.keys()))\n",
    "\n",
    "    # Check if a valid outcome is selected\n",
    "    if selected_demographic in demographics:\n",
    "        demographic_to_show = demographics[selected_demographic]\n",
    "    else:\n",
    "        st.warning(\"Please select a valid detail.\")"
   ]
  },
  {
   "cell_type": "code",
   "execution_count": null,
   "metadata": {},
   "outputs": [],
   "source": [
    "    # Select medical history\n",
    "    history = {'Hypertension': 'htn_category', 'Diabetes': 'dm_category','Pulmonary': 'preop_pft'}\n",
    "    selected_history = st.sidebar.selectbox('Medical History', list(history.keys()))\n",
    "\n",
    "    # Check if a valid outcome is selected\n",
    "    if selected_history in history:\n",
    "        history_to_show = history[selected_history]\n",
    "    else:\n",
    "        st.warning(\"Please select a valid detail.\")\n",
    "\n",
    "    # Select outcome\n",
    "    outcomes = {'Inhospital Mortality': 'death_category', 'Length of Hospital Stay': 'icu_category'}\n",
    "    selected_outcome = st.sidebar.selectbox('Outcomes to explore', list(outcomes.keys()))\n",
    "\n",
    "    # Check if a valid outcome is selected\n",
    "    if selected_outcome in outcomes:\n",
    "        metric_to_show = outcomes[selected_outcome]\n",
    "    else:\n",
    "        st.warning(\"Please select a valid outcome.\")\n",
    "\n",
    "    # # Reset button in the sidebar\n",
    "    # reset_button = st.sidebar.button(\"Reset Dashboard\")"
   ]
  },
  {
   "cell_type": "markdown",
   "metadata": {},
   "source": [
    "Patient Risk Assesment"
   ]
  },
  {
   "cell_type": "code",
   "execution_count": null,
   "metadata": {},
   "outputs": [],
   "source": [
    "st.sidebar.header(\"Patient Risk Assessment\")\n",
    "with st.sidebar.expander(\"Patient Information for Prediction\"):\n",
    "    # Fields for user input\n",
    "    with st.form(\"prediction_form\"):\n",
    "        age_input = st.number_input(\"Age\", min_value=1, max_value=100, step=1, value=30)\n",
    "        bmi_input = st.number_input(\"BMI\", min_value=10.0, max_value=50.0, step=0.1, value=25.0)\n",
    "        sex_input = st.radio(\"Gender\", ['M', 'F'])  # Modified this line\n",
    "        department_input = st.selectbox(\"Department\", df['department'].unique())\n",
    "        optype_input = st.selectbox(\"Operation Type\", df['optype'].unique())\n",
    "        approach_input = st.selectbox(\"Approach\", df['approach'].unique())\n",
    "        ane_type_input = st.selectbox(\"Anesthesia Type\", df['ane_type'].unique())\n",
    "        htn_input = st.radio(\"Hypertension\", ['No', 'Yes'])\n",
    "        dm_input = st.radio(\"Diabetes\", ['No', 'Yes'])\n",
    "        pft_input = st.radio(\"Pulmonary\", ['No', 'Yes'])\n",
    "        \n",
    "        predict_button = st.form_submit_button(\"Predict\")\n",
    "    # Evaluation metrics section\n",
    "    evaluate_button = st.sidebar.button(\"Evaluate Model\")"
   ]
  },
  {
   "cell_type": "code",
   "execution_count": null,
   "metadata": {},
   "outputs": [],
   "source": [
    "@st.cache_data\n",
    "def get_grouped_data(features):\n",
    "    return df.groupby(features).agg({\n",
    "        'icu_days': 'sum',\n",
    "        'death_inhosp': 'sum'\n",
    "    }).reset_index()"
   ]
  },
  {
   "cell_type": "markdown",
   "metadata": {},
   "source": [
    "CLUSTERED COLUMN CHART"
   ]
  },
  {
   "cell_type": "code",
   "execution_count": null,
   "metadata": {},
   "outputs": [],
   "source": [
    "@st.cache_data\n",
    "def get_clustered_column_plot(detail_to_show, demographic_to_show, history_to_show, selected_demographic):\n",
    "    grouped_data = get_grouped_data([detail_to_show, 'opname', demographic_to_show, 'icu_category'])\n",
    "    return px.bar(\n",
    "        grouped_data,\n",
    "        x='death_inhosp',\n",
    "        y=detail_to_show,\n",
    "        color='opname',\n",
    "        facet_row=demographic_to_show,\n",
    "        facet_col='icu_category',\n",
    "        hover_data=[detail_to_show, 'opname', 'icu_category', 'death_inhosp', demographic_to_show],\n",
    "        title='Clustered Column Chart: Length of Hospital Stay and Death In-Hospital by Surgery Details and Patient Demographics',\n",
    "        labels={'death_inhosp': 'Number of Dead patients', detail_to_show: f'{selected_detail}', 'opname': 'Operation Name','icu_category':'Duration', demographic_to_show: f'{selected_demographic}', history_to_show:f'{selected_history}'},\n",
    "        orientation='h'\n",
    "    )"
   ]
  },
  {
   "cell_type": "markdown",
   "metadata": {},
   "source": [
    "HISTOGRAM"
   ]
  },
  {
   "cell_type": "code",
   "execution_count": null,
   "metadata": {},
   "outputs": [],
   "source": [
    "@st.cache_data\n",
    "def get_clustered_histogram(demographic_to_show, history_to_show, selected_demographic):\n",
    "    grouped_data = get_grouped_data([demographic_to_show, history_to_show, 'icu_category'])\n",
    "    return px.histogram(\n",
    "        grouped_data,\n",
    "        x='death_inhosp',\n",
    "        y=demographic_to_show,\n",
    "        facet_col='icu_category',\n",
    "        # facet_col='age_category',\n",
    "        color=history_to_show,\n",
    "        hover_data=[demographic_to_show, history_to_show, 'icu_days', 'death_inhosp'],\n",
    "        title='Histogram: Death In-Hospital and Length of Hospital Stay by Patient Demographics and Medical History',\n",
    "        labels={'death_inhosp': 'number of dead patients', demographic_to_show: f'{selected_demographic}', history_to_show:f'{selected_history}', 'icu_category':'Duration'},\n",
    "        orientation='h'\n",
    "    )\n",
    "# SCATTERPLOT\n",
    "@st.cache_data\n",
    "def get_scatterplot(metric_to_show, history_to_show, selected_outcome, selected_history):\n",
    "    return px.scatter(\n",
    "        df, \n",
    "        y='age', \n",
    "        x='bmi', \n",
    "        color=metric_to_show,\n",
    "        marginal_x=\"histogram\", \n",
    "        marginal_y=\"rug\",\n",
    "        facet_col=\"sex\",\n",
    "        title='Scatter Plot: Correlation of Age and Body Mass Index in determining Inhospital Mortality and Length of Hospital Stay',\n",
    "        hover_data=['age_category', history_to_show, metric_to_show, 'bmi_category', 'ane_type'],\n",
    "        labels={'age': 'Age', metric_to_show: f'{selected_outcome}', history_to_show: f'{selected_history}' ,'bmi':'Body Mass Index', 'bmi_category':'Body Mass Index','age_category':'Age range' },\n",
    "    )"
   ]
  },
  {
   "cell_type": "markdown",
   "metadata": {},
   "source": [
    "HEATMAP"
   ]
  },
  {
   "cell_type": "code",
   "execution_count": null,
   "metadata": {},
   "outputs": [],
   "source": [
    "@st.cache_data\n",
    "def get_heatmap(features_for_correlation, corr_matrix, selected_features, color_scale):\n",
    "   \n",
    "    # Create an interactive heatmap using Plotly with the selected color scale\n",
    "    return go.Figure(data=go.Heatmap(\n",
    "        z=corr_matrix.values,\n",
    "        x=selected_features,\n",
    "        y=selected_features,\n",
    "        colorscale=color_scale,\n",
    "        colorbar=dict(title='Correlation'),\n",
    "    ))"
   ]
  },
  {
   "cell_type": "markdown",
   "metadata": {},
   "source": [
    "HEATMAP UPDATE"
   ]
  },
  {
   "cell_type": "code",
   "execution_count": null,
   "metadata": {},
   "outputs": [],
   "source": [
    "@st.cache_data\n",
    "def get_heatmap_update(fig_heatmap, corr_matrix):\n",
    "   \n",
    "    # Create an interactive heatmap using Plotly with the selected color scale\n",
    "    return fig_heatmap.update_traces(\n",
    "        hovertemplate='%{y} vs %{x}: %{z:.2f}<br>' +\n",
    "        'Interpretation: %{customdata}',\n",
    "        customdata=[\n",
    "            [\n",
    "                'Strong correlation' if abs(val) >= 0.7 else\n",
    "                'Moderate correlation' if 0.5 <= abs(val) < 0.7 else\n",
    "                'Weak correlation' if 0.3 <= abs(val) < 0.5 else\n",
    "                'No correlation'\n",
    "                for val in row\n",
    "            ]\n",
    "            for row in corr_matrix.values\n",
    "        ],\n",
    "    )"
   ]
  },
  {
   "cell_type": "markdown",
   "metadata": {},
   "source": [
    "HEATMAP LAYOUT"
   ]
  },
  {
   "cell_type": "code",
   "execution_count": null,
   "metadata": {},
   "outputs": [],
   "source": [
    "@st.cache_data\n",
    "def get_heatmap_layout(fig_heatmap):\n",
    "   \n",
    "    # Create an interactive heatmap using Plotly with the selected color scale\n",
    "    return fig_heatmap.update_layout(\n",
    "        title='Interactive Feature Correlation Analysis',\n",
    "        height=600, width=800\n",
    "    )"
   ]
  },
  {
   "cell_type": "code",
   "execution_count": null,
   "metadata": {},
   "outputs": [],
   "source": [
    "with tab1:\n",
    "    # 1. CLUSTERED COLUMN CHART: Sum of ICU Days and Death In-Hospital by Surgery Details and Operation Name\n",
    "\n",
    "    # Create a clustered column chart\n",
    "    fig_clustered_column = get_clustered_column_plot(detail_to_show, demographic_to_show, history_to_show, selected_demographic)\n",
    "\n",
    "    # Show the chart\n",
    "    st.plotly_chart(fig_clustered_column, use_container_width=True)"
   ]
  },
  {
   "cell_type": "code",
   "execution_count": null,
   "metadata": {},
   "outputs": [],
   "source": [
    "    # 2. CLUSTERED HISTOGRAM: Sum of ICU Days and Death In-Hospital by Patient Demographics and Medical History\n",
    "\n",
    "    # Create a clustered column chart\n",
    "    fig_clustered_histogram = get_clustered_histogram(demographic_to_show, history_to_show, selected_demographic)\n",
    "\n",
    "    # Show the chart\n",
    "    st.plotly_chart(fig_clustered_histogram, use_container_width=True)"
   ]
  },
  {
   "cell_type": "code",
   "execution_count": null,
   "metadata": {},
   "outputs": [],
   "source": [
    "    # 3. SCATTER PLOT: Correlation of age and bmi in determining Inhospital Mortality and Length of Hospital Stay\n",
    "     \n",
    "    fig_scatterplot = get_scatterplot(metric_to_show, history_to_show, selected_outcome, selected_history)\n",
    "\n",
    "    # Show the chart\n",
    "    st.plotly_chart(fig_scatterplot, use_container_width=True) \n",
    "\n",
    "    # 4. HEATMAP\n",
    "\n",
    "    # Display feature correlation analysis using an interactive heatmap\n",
    "    st.markdown(\"**Feature Correlation Analysis**\")\n",
    "    # Specify the features for correlation analysis with aliases\n",
    "    features_for_correlation = {'Duration' : 'icu_days', 'Age' : 'age', 'Weight' : 'weight',  'Height': 'height', 'Hypertension' : 'preop_htn', 'BMI' : 'bmi', 'Diabetes' : 'preop_dm', 'Mortality' : 'death_inhosp'}\n",
    "    \n",
    "    # Create a subset of the DataFrame with the specified features\n",
    "    subset_df = df[features_for_correlation.values()]\n",
    "    \n",
    "    # Feature selection dropdown\n",
    "    selected_features = st.multiselect('Select Features for Correlation Analysis', list(features_for_correlation.keys()), default=list(features_for_correlation.keys()))"
   ]
  },
  {
   "cell_type": "code",
   "execution_count": null,
   "metadata": {},
   "outputs": [],
   "source": [
    "    # Color scale adjustment\n",
    "    color_scale = st.selectbox('Select Color Scale', options=['Viridis', 'Plasma', 'Inferno', 'Magma', 'Cividis'])"
   ]
  },
  {
   "cell_type": "code",
   "execution_count": null,
   "metadata": {},
   "outputs": [],
   "source": [
    "    # Exclude non-numeric columns before calculating the correlation matrix\n",
    "    numeric_columns = subset_df.select_dtypes(include=['number']).columns\n",
    "    corr_matrix = subset_df[numeric_columns].corr()"
   ]
  },
  {
   "cell_type": "code",
   "execution_count": null,
   "metadata": {},
   "outputs": [],
   "source": [
    "    fig_heatmap  = get_heatmap(features_for_correlation, corr_matrix, selected_features, color_scale)\n",
    "\n",
    "    # Customize the hover information for each tile dynamically\n",
    "    get_heatmap_update(fig_heatmap, corr_matrix)\n",
    "    get_heatmap_layout(fig_heatmap)\n",
    "\n",
    "    # Show the interactive heatmap\n",
    "    st.plotly_chart(fig_heatmap)"
   ]
  },
  {
   "cell_type": "markdown",
   "metadata": {},
   "source": [
    "MACHINE LEARNING SECTION STARTS HERE:"
   ]
  },
  {
   "cell_type": "markdown",
   "metadata": {},
   "source": [
    "Separate features (X) and target variable (y)"
   ]
  },
  {
   "cell_type": "code",
   "execution_count": null,
   "metadata": {},
   "outputs": [],
   "source": [
    "X = df[['age', 'bmi', 'sex', 'department', 'optype', 'approach', 'ane_type', 'preop_htn', 'preop_dm', 'preop_pft']]\n",
    "y_mortality = df['death_inhosp']\n",
    "y_icu = df['icu_category']"
   ]
  },
  {
   "cell_type": "markdown",
   "metadata": {},
   "source": [
    "Define categorical and numeric features"
   ]
  },
  {
   "cell_type": "code",
   "execution_count": null,
   "metadata": {},
   "outputs": [],
   "source": [
    "categorical_features = ['sex', 'department', 'optype', 'approach', 'ane_type', 'preop_pft']\n",
    "numeric_features = ['age', 'bmi', 'preop_htn', 'preop_dm']"
   ]
  },
  {
   "cell_type": "markdown",
   "metadata": {},
   "source": [
    "Create transformers for one-hot encoding and scaling"
   ]
  },
  {
   "cell_type": "code",
   "execution_count": null,
   "metadata": {},
   "outputs": [],
   "source": [
    "preprocessor = ColumnTransformer(\n",
    "    transformers=[\n",
    "        ('num', StandardScaler(), numeric_features),\n",
    "        ('cat', OneHotEncoder(), categorical_features)\n",
    "    ]\n",
    ")"
   ]
  },
  {
   "cell_type": "markdown",
   "metadata": {},
   "source": [
    "Resample the data for mortality prediction"
   ]
  },
  {
   "cell_type": "code",
   "execution_count": null,
   "metadata": {},
   "outputs": [],
   "source": [
    "ros_mortality = RandomOverSampler(random_state=42)\n",
    "X_resampled_mortality, y_resampled_mortality = ros_mortality.fit_resample(X, y_mortality)"
   ]
  },
  {
   "cell_type": "markdown",
   "metadata": {},
   "source": [
    "Resample the data for ICU stay prediction"
   ]
  },
  {
   "cell_type": "code",
   "execution_count": null,
   "metadata": {},
   "outputs": [],
   "source": [
    "ros_icu = RandomOverSampler(random_state=42)\n",
    "X_resampled_icu, y_resampled_icu = ros_icu.fit_resample(X, y_icu)"
   ]
  },
  {
   "cell_type": "markdown",
   "metadata": {},
   "source": [
    "Split the data into training and testing sets"
   ]
  },
  {
   "cell_type": "code",
   "execution_count": null,
   "metadata": {},
   "outputs": [],
   "source": [
    "X_train_mortality, X_test_mortality, y_train_mortality, y_test_mortality = train_test_split(X_resampled_mortality, y_resampled_mortality, test_size=0.2, random_state=42)\n",
    "X_train_icu, X_test_icu, y_train_icu, y_test_icu = train_test_split(X_resampled_icu, y_resampled_icu, test_size=0.2, random_state=42)"
   ]
  },
  {
   "cell_type": "markdown",
   "metadata": {},
   "source": [
    "Train the models"
   ]
  },
  {
   "cell_type": "code",
   "execution_count": null,
   "metadata": {},
   "outputs": [],
   "source": [
    "model_mortality = Pipeline([\n",
    "    ('preprocessor', preprocessor),\n",
    "    ('classifier', SVC(kernel='rbf', random_state=42, class_weight='balanced'))\n",
    "])"
   ]
  },
  {
   "cell_type": "code",
   "execution_count": null,
   "metadata": {},
   "outputs": [],
   "source": [
    "model_icu = Pipeline([\n",
    "    ('preprocessor', preprocessor),\n",
    "    ('classifier', RandomForestClassifier(random_state=42))\n",
    "])"
   ]
  },
  {
   "cell_type": "code",
   "execution_count": null,
   "metadata": {},
   "outputs": [],
   "source": [
    "model_mortality.fit(X_train_mortality, y_train_mortality)\n",
    "model_icu.fit(X_train_icu, y_train_icu)"
   ]
  },
  {
   "cell_type": "markdown",
   "metadata": {},
   "source": [
    "Evaluate the models"
   ]
  },
  {
   "cell_type": "code",
   "execution_count": null,
   "metadata": {},
   "outputs": [],
   "source": [
    "y_pred_mortality = model_mortality.predict(X_test_mortality)\n",
    "y_pred_icu = model_icu.predict(X_test_icu)"
   ]
  },
  {
   "cell_type": "code",
   "execution_count": null,
   "metadata": {},
   "outputs": [],
   "source": [
    "accuracy_mortality = accuracy_score(y_test_mortality, y_pred_mortality)\n",
    "accuracy_icu = accuracy_score(y_test_icu, y_pred_icu)"
   ]
  },
  {
   "cell_type": "markdown",
   "metadata": {},
   "source": [
    "Calculate additional metrics"
   ]
  },
  {
   "cell_type": "code",
   "execution_count": null,
   "metadata": {},
   "outputs": [],
   "source": [
    "f1_length_of_stay = f1_score(y_test_icu, y_pred_icu, average='weighted')\n",
    "recall_length_of_stay = recall_score(y_test_icu, y_pred_icu, average='weighted')\n",
    "precision_length_of_stay = precision_score(y_test_icu, y_pred_icu, average='weighted')"
   ]
  },
  {
   "cell_type": "code",
   "execution_count": null,
   "metadata": {},
   "outputs": [],
   "source": [
    "print(f\"Accuracy for Mortality Prediction: {accuracy_mortality}\")\n",
    "print(f\"Accuracy for ICU Stay Prediction: {accuracy_icu}\")"
   ]
  },
  {
   "cell_type": "markdown",
   "metadata": {},
   "source": [
    "Define the cross-validation strategy"
   ]
  },
  {
   "cell_type": "code",
   "execution_count": null,
   "metadata": {},
   "outputs": [],
   "source": [
    "cv_strategy = StratifiedKFold(n_splits=5, shuffle=True, random_state=42)"
   ]
  },
  {
   "cell_type": "markdown",
   "metadata": {},
   "source": [
    "Cross-validate the mortality prediction model"
   ]
  },
  {
   "cell_type": "code",
   "execution_count": null,
   "metadata": {},
   "outputs": [],
   "source": [
    "cross_val_results_mortality = cross_val_score(model_mortality, X_resampled_mortality, y_resampled_mortality, cv=cv_strategy, scoring='accuracy')"
   ]
  },
  {
   "cell_type": "markdown",
   "metadata": {},
   "source": [
    "Cross-validate the ICU stay prediction model"
   ]
  },
  {
   "cell_type": "code",
   "execution_count": null,
   "metadata": {},
   "outputs": [],
   "source": [
    "cross_val_results_icu = cross_val_score(model_icu, X_resampled_icu, y_resampled_icu, cv=cv_strategy, scoring='accuracy')"
   ]
  },
  {
   "cell_type": "code",
   "execution_count": null,
   "metadata": {},
   "outputs": [],
   "source": [
    "with tab2:\n",
    "    st.title(\"MortaliSys - Patient Outcome Prediction\")\n",
    "    if predict_button:\n",
    "        # Combine user input into a DataFrame\n",
    "        user_input = pd.DataFrame({\n",
    "            'age': [age_input],\n",
    "            'bmi': [bmi_input],\n",
    "            'sex': [sex_input],\n",
    "            'department': [department_input],\n",
    "            'optype': [optype_input],\n",
    "            'approach': [approach_input],\n",
    "            'ane_type': [ane_type_input],\n",
    "            'preop_htn': [1 if htn_input == 'Yes' else 0],\n",
    "            'preop_dm': [1 if dm_input == 'Yes' else 0],\n",
    "            'preop_pft': [1 if pft_input == 'Yes' else 0],\n",
    "        })\n",
    "\n",
    "        # Handle NaN values in the user input DataFrame\n",
    "        user_input = user_input.fillna(0)  # Replace NaN values with a specific value (you can choose a different value)\n",
    "\n",
    "        # Ensure data consistency for categorical features\n",
    "        user_input['sex'] = user_input['sex'].astype(str)  # Ensure 'sex' is of type string\n",
    "        user_input['department'] = user_input['department'].astype(str)\n",
    "        user_input['optype'] = user_input['optype'].astype(str)\n",
    "        user_input['ane_type'] = user_input['ane_type'].astype(str)\n",
    "        user_input['preop_pft'] = user_input['preop_pft'].astype(str)\n",
    "\n",
    "        # Handle unknown categories by replacing them with the most frequent category from the training data\n",
    "        for col in categorical_features:\n",
    "            # Get the most frequent category from the training data\n",
    "            most_frequent_category = X[col].mode()[0]\n",
    "\n",
    "            # Replace unknown categories with the most frequent category\n",
    "            user_input[col] = user_input[col].apply(lambda x: x if x in X[col].unique() else most_frequent_category)\n",
    "\n",
    "        # Predictions\n",
    "        mortality_prediction = model_mortality.predict(user_input)[0]\n",
    "        icu_prediction = model_icu.predict(user_input)[0]\n",
    "\n",
    "        # Display predictions\n",
    "        st.subheader(\"Outcome Predictions:\")\n",
    "        result_message = f\"In-Hospital Mortality Prediction: {'Patient WILL NOT survive' if mortality_prediction == 1 else 'Patient WILL DEFINITELY survive'}\\n\\nLength of Hospital Stay Prediction: {icu_prediction}\"\n",
    "        st.info(result_message)"
   ]
  },
  {
   "cell_type": "code",
   "execution_count": null,
   "metadata": {},
   "outputs": [],
   "source": [
    "    if evaluate_button:\n",
    "        # Evaluate the models\n",
    "        y_scores_mortality = model_mortality.decision_function(X_test_mortality)\n",
    "        y_proba_mortality = 1 / (1 + np.exp(-y_scores_mortality))\n",
    "        y_scores_mortality = model_mortality.decision_function(X_test_mortality)\n",
    "        y_proba_mortality = 1 / (1 + np.exp(-y_scores_mortality))\n",
    "        fpr_mortality, tpr_mortality, _ = roc_curve(y_test_mortality, y_proba_mortality)"
   ]
  },
  {
   "cell_type": "code",
   "execution_count": null,
   "metadata": {},
   "outputs": [],
   "source": [
    "        # Display ROC curve for mortality prediction\n",
    "        fig_mortality, ax_mortality = plt.subplots()\n",
    "        y_scores_mortality = model_mortality.decision_function(X_test_mortality)\n",
    "        fpr_mortality, tpr_mortality, _ = roc_curve(y_test_mortality, y_scores_mortality)\n",
    "        auc_score_mortality = roc_auc_score(y_test_mortality, y_scores_mortality)\n",
    "        plt.plot(fpr_mortality, tpr_mortality, label=f'AUC = {auc_score_mortality:.2f}')\n",
    "        plt.plot([0, 1], [0, 1], 'k--')\n",
    "        plt.xlabel('False Positive Rate')\n",
    "        plt.ylabel('True Positive Rate')\n",
    "        plt.title('Receiver Operating Characteristic (ROC) Curve - Mortality Prediction')\n",
    "        plt.legend(loc='lower right')\n",
    "        \n",
    "        # Display the ROC curve for mortality using st.pyplot()\n",
    "        st.pyplot(fig_mortality)\n",
    "\n",
    "        # Display classification report for mortality prediction\n",
    "        st.subheader(\"Classification Report - Mortality Prediction:\")\n",
    "\n",
    "        # Create a DataFrame from the classification report for better formatting\n",
    "        classification_df_mortality = pd.DataFrame(classification_report(y_test_mortality, y_pred_mortality, output_dict=True)).T\n",
    "\n",
    "        # Display precision, recall, and F1-score in a tabular format\n",
    "        st.dataframe(classification_df_mortality[['precision', 'recall', 'f1-score']])\n",
    "        \n",
    "        # Display support in a separate section\n",
    "        st.subheader(\"Support - Mortality Prediction:\")\n",
    "        st.text(\"Support refers to the number of actual occurrences of the class in the specified dataset.\")\n",
    "        st.text(f\"Support for class 0 (Alive): {classification_df_mortality.loc['0', 'support']}\")\n",
    "        st.text(f\"Support for class 1 (Dead): {classification_df_mortality.loc['1', 'support']}\")\n",
    "\n",
    "        # Provide a user-friendly interpretation\n",
    "        st.subheader(\"Interpretation - Mortality Prediction:\")\n",
    "        st.markdown(\"\"\"\n",
    "            - **Precision (Positive Predictive Value):** Indicates the accuracy of the positive predictions. \n",
    "            - **Recall (Sensitivity, True Positive Rate):** Measures the ability of the model to capture all positive instances.\n",
    "            - **F1-score:** Balances precision and recall, providing a single metric for model evaluation.\n",
    "        \"\"\")\n",
    "        st.markdown(\"\"\"\n",
    "            In simple terms, precision tells us how often the model correctly predicted death when it predicted death. \n",
    "            Recall indicates how often the model correctly predicted death out of all actual deaths.\n",
    "            The F1-score is a balanced measure that considers both precision and recall.\n",
    "        \"\"\")\n",
    "\n",
    "        # Display the cross-validation results\n",
    "        st.subheader(\"Cross-Validation Results - Mortality Prediction:\")\n",
    "        st.text(cross_val_results_mortality)\n",
    "        st.text(f\"Mean Accuracy: {cross_val_results_mortality.mean()}\")\n",
    "        \n",
    "        # Length of Hospital Stay metrics\n",
    "        st.subheader(\"Evaluation Metrics - Length of Hospital Stay:\")\n",
    "\n",
    "        # Display classification report for mortality prediction\n",
    "        st.subheader(\"Classification Report - Length of Hospital Stay Prediction:\")\n",
    "\n",
    "        # Create a DataFrame from the classification report for better formatting\n",
    "        classification_df_icu = pd.DataFrame(classification_report(y_test_icu, y_pred_icu, output_dict=True)).T\n",
    "\n",
    "        # Display precision, recall, and F1-score in a tabular format\n",
    "        st.dataframe(classification_df_icu[['precision', 'recall', 'f1-score']])\n",
    "\n",
    "        # # Display support in a separate section\n",
    "        # st.subheader(\"Support - Mortality Prediction:\")\n",
    "        # st.text(\"Support refers to the number of actual occurrences of the class in the specified dataset.\")\n",
    "        # st.text(f\"Support for class Less than a day: {classification_df_icu.loc['Less than a day', 'support']}\")\n",
    "        # st.text(f\"Suppor for More than a month: {classification_df_icu.loc['More than a month', 'support']}\")\n",
    "        # st.text(f\"Suppor for Under a month: {classification_df_icu.loc['Under a month', 'support']}\")\n",
    "        # st.text(f\"Suppor for Under a week: {classification_df_icu.loc['Under a week', 'support']}\")\n",
    "\n",
    "        # Provide a user-friendly interpretation for Length of Hospital Stay\n",
    "        st.subheader(\"Interpretation - Length of Hospital Stay:\")\n",
    "        st.markdown(\"\"\"\n",
    "            - **F1-score:** A balanced measure that considers both precision and recall for Length of Hospital Stay prediction.\n",
    "            - **Recall:** Measures the ability of the model to capture all instances of prolonged hospital stay.\n",
    "            - **Precision:** Indicates the accuracy of the positive predictions for prolonged hospital stay.\n",
    "        \"\"\")\n",
    "        st.markdown(\"\"\"\n",
    "            In simple terms, the F1-score provides a balanced assessment of the model's ability to predict prolonged hospital stay.\n",
    "            Recall tells us how often the model correctly predicted prolonged hospital stay out of all actual cases.\n",
    "            Precision indicates how accurately the model predicted prolonged hospital stay when it made positive predictions.\n",
    "        \"\"\")"
   ]
  },
  {
   "cell_type": "code",
   "execution_count": null,
   "metadata": {},
   "outputs": [],
   "source": [
    "        # Display the cross-validation results\n",
    "        st.subheader(\"\\nCross-Validation Results - ICU Stay Prediction:\")\n",
    "        st.text(cross_val_results_icu)\n",
    "        st.text(f\"Mean Accuracy: {cross_val_results_icu.mean()}\")"
   ]
  }
 ],
 "metadata": {
  "kernelspec": {
   "display_name": "Python 3 (ipykernel)",
   "language": "python",
   "name": "python3"
  },
  "language_info": {
   "codemirror_mode": {
    "name": "ipython",
    "version": 3
   },
   "file_extension": ".py",
   "mimetype": "text/x-python",
   "name": "python",
   "nbconvert_exporter": "python",
   "pygments_lexer": "ipython3",
   "version": "3.11.5"
  }
 },
 "nbformat": 4,
 "nbformat_minor": 2
}
